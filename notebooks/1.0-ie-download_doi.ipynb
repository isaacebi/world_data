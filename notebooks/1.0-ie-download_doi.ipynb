{
 "cells": [
  {
   "cell_type": "code",
   "execution_count": 1,
   "metadata": {},
   "outputs": [],
   "source": [
    "# importing\n",
    "import os\n",
    "from PyPDF2 import PdfReader\n",
    "from scidownl import scihub_download\n"
   ]
  },
  {
   "cell_type": "code",
   "execution_count": 2,
   "metadata": {},
   "outputs": [],
   "source": [
    "# folder path\n",
    "PROJECT_DIR = os.path.dirname(os.getcwd())\n",
    "DATA_DIR = os.path.join(PROJECT_DIR, 'data')\n",
    "PAPER_DIR = os.path.join(DATA_DIR, 'paper')\n",
    "\n",
    "# file path\n",
    "DOI_FILE = os.path.join(PAPER_DIR, 'doi_list.txt')\n",
    "DOI_FAIL = os.path.join(PAPER_DIR, 'doi_fail.txt')"
   ]
  },
  {
   "cell_type": "code",
   "execution_count": 3,
   "metadata": {},
   "outputs": [],
   "source": [
    "# Initialize empty list to track doi\n",
    "doi_list = []\n",
    "\n",
    "# read text file that consist all doi\n",
    "with open(DOI_FILE, 'r') as f:\n",
    "    for line in f:\n",
    "        doi_list.append(line.rstrip())"
   ]
  },
  {
   "cell_type": "code",
   "execution_count": 4,
   "metadata": {},
   "outputs": [],
   "source": [
    "def checkFile(fullfile):\n",
    "    with open(fullfile, 'rb') as f:\n",
    "        try:\n",
    "            pdf = PdfReader(f)\n",
    "            info = pdf.metadata\n",
    "            if info:\n",
    "                return True\n",
    "            else:\n",
    "                return False\n",
    "        except:\n",
    "            return False"
   ]
  },
  {
   "cell_type": "code",
   "execution_count": null,
   "metadata": {},
   "outputs": [
    {
     "ename": "",
     "evalue": "",
     "output_type": "error",
     "traceback": [
      "\u001b[1;31mThe Kernel crashed while executing code in the current cell or a previous cell. \n",
      "\u001b[1;31mPlease review the code in the cell(s) to identify a possible cause of the failure. \n",
      "\u001b[1;31mClick <a href='https://aka.ms/vscodeJupyterKernelCrash'>here</a> for more info. \n",
      "\u001b[1;31mView Jupyter <a href='command:jupyter.viewOutput'>log</a> for further details."
     ]
    }
   ],
   "source": [
    "# Define paper type\n",
    "paper_type = \"doi\"\n",
    "\n",
    "# Optional proxy configuration for download requests\n",
    "proxies = {\n",
    "    'http': 'socks5://127.0.0.1:7890'\n",
    "}\n",
    "\n",
    "# Initialize an empty list to track failed downloads\n",
    "track_fail = []\n",
    "\n",
    "# Iterate through each DOI in the provided list\n",
    "for doi in doi_list:\n",
    "    # Extract filename from the last element of the DOI URL path\n",
    "    name_file = doi.split(\"/\")[-1]\n",
    "    # Append \".pdf\" extension to create the output filename\n",
    "    name_file = name_file + \".pdf\"\n",
    "\n",
    "    # Construct the full output path for the downloaded paper\n",
    "    path_ = os.path.join(PAPER_DIR, name_file)\n",
    "\n",
    "    # Check if the paper has already been downloaded\n",
    "    if not os.path.exists(path_):\n",
    "        # Attempt to download the paper using scihub_download function\n",
    "        scihub_download(doi, paper_type=paper_type, out=path_, proxies=proxies)\n",
    "\n",
    "    # Track download failures\n",
    "    if not os.path.exists(path_):\n",
    "        # Append the failed DOI to the track_fail list\n",
    "        track_fail.append(doi)\n",
    "\n",
    "    # Check if file is corrupted\n",
    "    if os.path.exists(path_):\n",
    "        if not checkFile(path_):\n",
    "            track_fail.append(doi)\n",
    "            os.remove(path_)\n",
    "    # Check if file is corrupted\n",
    "\n",
    "\n",
    "# Open the DOI failure log file in append mode for logging failed downloads\n",
    "with open(DOI_FAIL, 'a') as f:\n",
    "    # Write each failed DOI to the log file\n",
    "    for fail in track_fail:\n",
    "        f.write(fail)\n",
    "        # Add a newline character after each DOI entry\n",
    "        f.write(\"\\n\")"
   ]
  }
 ],
 "metadata": {
  "kernelspec": {
   "display_name": "de_project",
   "language": "python",
   "name": "python3"
  },
  "language_info": {
   "codemirror_mode": {
    "name": "ipython",
    "version": 3
   },
   "file_extension": ".py",
   "mimetype": "text/x-python",
   "name": "python",
   "nbconvert_exporter": "python",
   "pygments_lexer": "ipython3",
   "version": "3.11.5"
  }
 },
 "nbformat": 4,
 "nbformat_minor": 2
}
