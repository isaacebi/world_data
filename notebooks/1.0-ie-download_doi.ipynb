{
 "cells": [
  {
   "cell_type": "code",
   "execution_count": 5,
   "metadata": {},
   "outputs": [],
   "source": [
    "# importing\n",
    "from scidownl import scihub_download\n",
    "import os"
   ]
  },
  {
   "cell_type": "code",
   "execution_count": 21,
   "metadata": {},
   "outputs": [],
   "source": [
    "# folder path\n",
    "PROJECT_DIR = os.path.dirname(os.getcwd())\n",
    "DATA_DIR = os.path.join(PROJECT_DIR, 'data')\n",
    "PAPER_DIR = os.path.join(DATA_DIR, 'paper')\n",
    "\n",
    "# file path\n",
    "DOI_FILE = os.path.join(PAPER_DIR, 'doi_list.txt')\n",
    "DOI_FAIL = os.path.join(PAPER_DIR, 'doi_fail.txt')"
   ]
  },
  {
   "cell_type": "code",
   "execution_count": 10,
   "metadata": {},
   "outputs": [],
   "source": [
    "# Initialize empty list to track doi\n",
    "doi_list = []\n",
    "\n",
    "# read text file that consist all doi\n",
    "with open(DOI_FILE, 'r') as f:\n",
    "    for line in f:\n",
    "        doi_list.append(line.rstrip())"
   ]
  },
  {
   "cell_type": "code",
   "execution_count": 25,
   "metadata": {},
   "outputs": [
    {
     "name": "stderr",
     "output_type": "stream",
     "text": [
      "\u001b[1m[INFO]\u001b[0m | \u001b[32m2024/03/24 17:06:21\u001b[0m | \u001b[1mChoose scihub url [0]: https://sci-hub.se\u001b[0m\n",
      "\u001b[1m[INFO]\u001b[0m | \u001b[32m2024/03/24 17:06:21\u001b[0m | \u001b[1m<- Request: scihub_url=https://sci-hub.se, source=DoiSource[type=doi, id=doi.org/10.3390/fishes8120610], proxies={'http': 'socks5://127.0.0.1:7890'}\u001b[0m\n",
      "\u001b[1m[INFO]\u001b[0m | \u001b[32m2024/03/24 17:06:29\u001b[0m | \u001b[1m-> Response: status_code=200, content_length=5830\u001b[0m\n",
      "\u001b[33m\u001b[1m[WARNING]\u001b[0m | \u001b[32m2024/03/24 17:06:29\u001b[0m | \u001b[33m\u001b[1mError occurs, task status: extracting_failed, error: No pdf tag was found in the given content with the selector: #pdf\u001b[0m\n",
      "\u001b[1m[INFO]\u001b[0m | \u001b[32m2024/03/24 17:06:29\u001b[0m | \u001b[1mChoose scihub url [1]: http://sci-hub.ru\u001b[0m\n",
      "\u001b[1m[INFO]\u001b[0m | \u001b[32m2024/03/24 17:06:29\u001b[0m | \u001b[1m<- Request: scihub_url=http://sci-hub.ru, source=DoiSource[type=doi, id=doi.org/10.3390/fishes8120610], proxies={'http': 'socks5://127.0.0.1:7890'}\u001b[0m\n",
      "\u001b[33m\u001b[1m[WARNING]\u001b[0m | \u001b[32m2024/03/24 17:06:31\u001b[0m | \u001b[33m\u001b[1mError occurs, task status: crawling_failed, error: SOCKSHTTPConnectionPool(host='sci-hub.ru', port=80): Max retries exceeded with url: / (Caused by NewConnectionError('<urllib3.contrib.socks.SOCKSConnection object at 0x0000021777389850>: Failed to establish a new connection: [WinError 10061] No connection could be made because the target machine actively refused it'))\u001b[0m\n",
      "\u001b[1m[INFO]\u001b[0m | \u001b[32m2024/03/24 17:06:31\u001b[0m | \u001b[1mChoose scihub url [2]: http://sci-hub.se\u001b[0m\n",
      "\u001b[1m[INFO]\u001b[0m | \u001b[32m2024/03/24 17:06:31\u001b[0m | \u001b[1m<- Request: scihub_url=http://sci-hub.se, source=DoiSource[type=doi, id=doi.org/10.3390/fishes8120610], proxies={'http': 'socks5://127.0.0.1:7890'}\u001b[0m\n",
      "\u001b[33m\u001b[1m[WARNING]\u001b[0m | \u001b[32m2024/03/24 17:06:33\u001b[0m | \u001b[33m\u001b[1mError occurs, task status: crawling_failed, error: SOCKSHTTPConnectionPool(host='sci-hub.se', port=80): Max retries exceeded with url: / (Caused by NewConnectionError('<urllib3.contrib.socks.SOCKSConnection object at 0x00000217772D0C90>: Failed to establish a new connection: [WinError 10061] No connection could be made because the target machine actively refused it'))\u001b[0m\n",
      "\u001b[1m[INFO]\u001b[0m | \u001b[32m2024/03/24 17:06:33\u001b[0m | \u001b[1mChoose scihub url [3]: https://sci-hub.st\u001b[0m\n",
      "\u001b[1m[INFO]\u001b[0m | \u001b[32m2024/03/24 17:06:33\u001b[0m | \u001b[1m<- Request: scihub_url=https://sci-hub.st, source=DoiSource[type=doi, id=doi.org/10.3390/fishes8120610], proxies={'http': 'socks5://127.0.0.1:7890'}\u001b[0m\n",
      "\u001b[1m[INFO]\u001b[0m | \u001b[32m2024/03/24 17:06:35\u001b[0m | \u001b[1m-> Response: status_code=200, content_length=5830\u001b[0m\n",
      "\u001b[33m\u001b[1m[WARNING]\u001b[0m | \u001b[32m2024/03/24 17:06:35\u001b[0m | \u001b[33m\u001b[1mError occurs, task status: extracting_failed, error: No pdf tag was found in the given content with the selector: #pdf\u001b[0m\n",
      "\u001b[1m[INFO]\u001b[0m | \u001b[32m2024/03/24 17:06:35\u001b[0m | \u001b[1mChoose scihub url [4]: http://sci-hub.st\u001b[0m\n",
      "\u001b[1m[INFO]\u001b[0m | \u001b[32m2024/03/24 17:06:35\u001b[0m | \u001b[1m<- Request: scihub_url=http://sci-hub.st, source=DoiSource[type=doi, id=doi.org/10.3390/fishes8120610], proxies={'http': 'socks5://127.0.0.1:7890'}\u001b[0m\n",
      "\u001b[33m\u001b[1m[WARNING]\u001b[0m | \u001b[32m2024/03/24 17:06:37\u001b[0m | \u001b[33m\u001b[1mError occurs, task status: crawling_failed, error: SOCKSHTTPConnectionPool(host='sci-hub.st', port=80): Max retries exceeded with url: / (Caused by NewConnectionError('<urllib3.contrib.socks.SOCKSConnection object at 0x000002177731E590>: Failed to establish a new connection: [WinError 10061] No connection could be made because the target machine actively refused it'))\u001b[0m\n",
      "\u001b[1m[INFO]\u001b[0m | \u001b[32m2024/03/24 17:06:37\u001b[0m | \u001b[1mChoose scihub url [5]: https://sci-hub.ru\u001b[0m\n",
      "\u001b[1m[INFO]\u001b[0m | \u001b[32m2024/03/24 17:06:37\u001b[0m | \u001b[1m<- Request: scihub_url=https://sci-hub.ru, source=DoiSource[type=doi, id=doi.org/10.3390/fishes8120610], proxies={'http': 'socks5://127.0.0.1:7890'}\u001b[0m\n",
      "\u001b[1m[INFO]\u001b[0m | \u001b[32m2024/03/24 17:06:43\u001b[0m | \u001b[1m-> Response: status_code=200, content_length=5830\u001b[0m\n",
      "\u001b[33m\u001b[1m[WARNING]\u001b[0m | \u001b[32m2024/03/24 17:06:43\u001b[0m | \u001b[33m\u001b[1mError occurs, task status: extracting_failed, error: No pdf tag was found in the given content with the selector: #pdf\u001b[0m\n",
      "\u001b[31m\u001b[1m[ERROR]\u001b[0m | \u001b[32m2024/03/24 17:06:43\u001b[0m | \u001b[31m\u001b[1mFailed to download the paper: https://doi.org/10.3390/fishes8120610. Please try again.\u001b[0m\n"
     ]
    }
   ],
   "source": [
    "# Define paper type\n",
    "paper_type = \"doi\"\n",
    "\n",
    "# Optional proxy configuration for download requests\n",
    "proxies = {\n",
    "    'http': 'socks5://127.0.0.1:7890'\n",
    "}\n",
    "\n",
    "# Initialize an empty list to track failed downloads\n",
    "track_fail = []\n",
    "\n",
    "# Iterate through each DOI in the provided list\n",
    "for doi in doi_list:\n",
    "    # Extract filename from the last element of the DOI URL path\n",
    "    name_file = doi.split(\"/\")[-1]\n",
    "    # Append \".pdf\" extension to create the output filename\n",
    "    name_file = name_file + \".pdf\"\n",
    "\n",
    "    # Construct the full output path for the downloaded paper\n",
    "    path_ = os.path.join(PAPER_DIR, name_file)\n",
    "\n",
    "    # Check if the paper has already been downloaded\n",
    "    if not os.path.exists(path_):\n",
    "        # Attempt to download the paper using scihub_download function\n",
    "        scihub_download(doi, paper_type=paper_type, out=path_, proxies=proxies)\n",
    "\n",
    "    # Track download failures\n",
    "    if not os.path.exists(path_):\n",
    "        # Append the failed DOI to the track_fail list\n",
    "        track_fail.append(doi)\n",
    "\n",
    "# Open the DOI failure log file in append mode for logging failed downloads\n",
    "with open(DOI_FAIL, 'a') as f:\n",
    "    # Write each failed DOI to the log file\n",
    "    for fail in track_fail:\n",
    "        f.write(fail)\n",
    "        # Add a newline character after each DOI entry\n",
    "        f.write(\"\\n\")"
   ]
  }
 ],
 "metadata": {
  "kernelspec": {
   "display_name": "de_project",
   "language": "python",
   "name": "python3"
  },
  "language_info": {
   "codemirror_mode": {
    "name": "ipython",
    "version": 3
   },
   "file_extension": ".py",
   "mimetype": "text/x-python",
   "name": "python",
   "nbconvert_exporter": "python",
   "pygments_lexer": "ipython3",
   "version": "3.11.5"
  }
 },
 "nbformat": 4,
 "nbformat_minor": 2
}
