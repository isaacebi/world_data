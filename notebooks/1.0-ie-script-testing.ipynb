{
 "cells": [
  {
   "cell_type": "code",
   "execution_count": 1,
   "metadata": {},
   "outputs": [],
   "source": [
    "import os\n",
    "import sys\n",
    "import pandas\n",
    "import numpy"
   ]
  },
  {
   "cell_type": "code",
   "execution_count": 2,
   "metadata": {},
   "outputs": [],
   "source": [
    "CURR_DIR = os.getcwd()\n",
    "PROJECT_DIR = os.path.dirname(CURR_DIR)\n",
    "DATA_DIR = os.path.join(PROJECT_DIR, 'data')\n",
    "DATA_MET = os.path.join(DATA_DIR, 'MET')\n",
    "DATA_RAW = os.path.join(DATA_DIR, 'raw')\n",
    "TOKEN_MET = os.path.join(DATA_DIR, 'MET', 'token.txt')\n",
    "\n",
    "GEN_DB = os.path.join(DATA_RAW, 'general.db')"
   ]
  },
  {
   "cell_type": "code",
   "execution_count": 3,
   "metadata": {},
   "outputs": [],
   "source": [
    "MET_URL = \"https://api.met.gov.my/v2\"\n",
    "MET_URL2 = \"https://api.met.gov.my/v2/data\"\n",
    "DATA_TYPE_URL = \"https://api.met.gov.my/v2/datatypes\"\n",
    "LOCATION_BASE_URL = \"https://api.met.gov.my/v2.1/locations?locationcategoryid=\""
   ]
  },
  {
   "cell_type": "code",
   "execution_count": 4,
   "metadata": {},
   "outputs": [],
   "source": [
    "sys.path.append(PROJECT_DIR)"
   ]
  },
  {
   "cell_type": "code",
   "execution_count": 5,
   "metadata": {},
   "outputs": [],
   "source": [
    "from src.MET import getDataMET, getInfoMET"
   ]
  },
  {
   "cell_type": "code",
   "execution_count": 6,
   "metadata": {},
   "outputs": [],
   "source": [
    "TOKEN = getDataMET.read_text_file(TOKEN_MET)"
   ]
  },
  {
   "cell_type": "code",
   "execution_count": 7,
   "metadata": {},
   "outputs": [],
   "source": [
    "# LOCATIONS = ['STATE', 'DISTRICT', 'TOWN', 'TOURISTDEST', 'WATERS']\n",
    "# getInfoMET.getCSV(DATA_TYPE_URL, LOCATION_BASE_URL, LOCATIONS, DATA_MET, TOKEN)"
   ]
  },
  {
   "cell_type": "code",
   "execution_count": 8,
   "metadata": {},
   "outputs": [],
   "source": [
    "getJSON = getDataMET.get_met_api_data(\n",
    "    \"FORECAST\", \"LOCATION:13\", \"2024-01-01\", \"2024-01-01\", MET_URL2, TOKEN\n",
    ")"
   ]
  },
  {
   "cell_type": "code",
   "execution_count": 9,
   "metadata": {},
   "outputs": [],
   "source": [
    "df = getDataMET.extract_weather_info(getJSON)"
   ]
  },
  {
   "cell_type": "code",
   "execution_count": 10,
   "metadata": {},
   "outputs": [
    {
     "data": {
      "text/html": [
       "<div>\n",
       "<style scoped>\n",
       "    .dataframe tbody tr th:only-of-type {\n",
       "        vertical-align: middle;\n",
       "    }\n",
       "\n",
       "    .dataframe tbody tr th {\n",
       "        vertical-align: top;\n",
       "    }\n",
       "\n",
       "    .dataframe thead th {\n",
       "        text-align: right;\n",
       "    }\n",
       "</style>\n",
       "<table border=\"1\" class=\"dataframe\">\n",
       "  <thead>\n",
       "    <tr style=\"text-align: right;\">\n",
       "      <th>data_type</th>\n",
       "      <th>location_name</th>\n",
       "      <th>date</th>\n",
       "      <th>FGA</th>\n",
       "      <th>FGM</th>\n",
       "      <th>FGN</th>\n",
       "      <th>FMAXT</th>\n",
       "      <th>FMINT</th>\n",
       "      <th>FSIGW</th>\n",
       "    </tr>\n",
       "  </thead>\n",
       "  <tbody>\n",
       "    <tr>\n",
       "      <th>0</th>\n",
       "      <td>SABAH</td>\n",
       "      <td>2024-01-01T00:00:00+08:00</td>\n",
       "      <td>Isolated thunderstorms over inland areas</td>\n",
       "      <td>No rain</td>\n",
       "      <td>Isolated rain over inland areas</td>\n",
       "      <td>34</td>\n",
       "      <td>22</td>\n",
       "      <td>Isolated thunderstorms over inland areas</td>\n",
       "    </tr>\n",
       "  </tbody>\n",
       "</table>\n",
       "</div>"
      ],
      "text/plain": [
       "data_type location_name                       date  \\\n",
       "0                 SABAH  2024-01-01T00:00:00+08:00   \n",
       "\n",
       "data_type                                       FGA      FGM  \\\n",
       "0          Isolated thunderstorms over inland areas  No rain   \n",
       "\n",
       "data_type                              FGN FMAXT FMINT  \\\n",
       "0          Isolated rain over inland areas    34    22   \n",
       "\n",
       "data_type                                     FSIGW  \n",
       "0          Isolated thunderstorms over inland areas  "
      ]
     },
     "execution_count": 10,
     "metadata": {},
     "output_type": "execute_result"
    }
   ],
   "source": [
    "df"
   ]
  },
  {
   "cell_type": "code",
   "execution_count": 11,
   "metadata": {},
   "outputs": [],
   "source": [
    "import sqlite3\n",
    "\n",
    "conn = sqlite3.connect(GEN_DB)"
   ]
  },
  {
   "cell_type": "code",
   "execution_count": 12,
   "metadata": {},
   "outputs": [
    {
     "data": {
      "text/plain": [
       "<sqlite3.Cursor at 0x193c2b197c0>"
      ]
     },
     "execution_count": 12,
     "metadata": {},
     "output_type": "execute_result"
    }
   ],
   "source": [
    "create_sql = \"CREATE TABLE IF NOT EXISTS forecast (data_type INTEGER, location_name TEXT, date TEXT, FGA TEXT, FGM TEXT, FGN TEXT, FMAXT INTEGER, FMINT INTEGER, FSIGW text)\"\n",
    "cursor = conn.cursor()\n",
    "cursor.execute(create_sql)"
   ]
  },
  {
   "cell_type": "code",
   "execution_count": 14,
   "metadata": {},
   "outputs": [],
   "source": [
    "for row in df.itertuples():\n",
    "    insert_sql = f\"INSERT INTO forecast (data_type, location_name, date, FGA, FGM, FGN, FMAXT, FMINT, FSIGW) \\\n",
    "        VALUES ({row[0]}, '{row[1]}', '{row[2]}', '{row[3]}', '{row[4]}', '{row[5]}', {row[6]}, {row[7]}, '{row[8]}')\"\n",
    "    cursor.execute(insert_sql)"
   ]
  },
  {
   "cell_type": "code",
   "execution_count": 15,
   "metadata": {},
   "outputs": [],
   "source": [
    "conn.commit()"
   ]
  },
  {
   "cell_type": "code",
   "execution_count": null,
   "metadata": {},
   "outputs": [],
   "source": []
  }
 ],
 "metadata": {
  "kernelspec": {
   "display_name": "Python 3",
   "language": "python",
   "name": "python3"
  },
  "language_info": {
   "codemirror_mode": {
    "name": "ipython",
    "version": 3
   },
   "file_extension": ".py",
   "mimetype": "text/x-python",
   "name": "python",
   "nbconvert_exporter": "python",
   "pygments_lexer": "ipython3",
   "version": "3.11.5"
  }
 },
 "nbformat": 4,
 "nbformat_minor": 2
}
