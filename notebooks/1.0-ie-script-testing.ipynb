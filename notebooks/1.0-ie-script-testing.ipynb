{
 "cells": [
  {
   "cell_type": "code",
   "execution_count": 1,
   "metadata": {},
   "outputs": [],
   "source": [
    "import os\n",
    "import sys\n",
    "import pandas\n",
    "import numpy"
   ]
  },
  {
   "cell_type": "code",
   "execution_count": 2,
   "metadata": {},
   "outputs": [],
   "source": [
    "CURR_DIR = os.getcwd()\n",
    "PROJECT_DIR = os.path.dirname(CURR_DIR)\n",
    "DATA_DIR = os.path.join(PROJECT_DIR, 'data')\n",
    "DATA_MET = os.path.join(DATA_DIR, 'MET')\n",
    "TOKEN_MET = os.path.join(DATA_DIR, 'MET', 'token.txt')"
   ]
  },
  {
   "cell_type": "code",
   "execution_count": 3,
   "metadata": {},
   "outputs": [],
   "source": [
    "MET_URL = \"https://api.met.gov.my/v2\"\n",
    "MET_URL2 = \"https://api.met.gov.my/v2/data\"\n",
    "DATA_TYPE_URL = \"https://api.met.gov.my/v2/datatypes\"\n",
    "LOCATION_BASE_URL = \"https://api.met.gov.my/v2.1/locations?locationcategoryid=\""
   ]
  },
  {
   "cell_type": "code",
   "execution_count": 4,
   "metadata": {},
   "outputs": [],
   "source": [
    "sys.path.append(PROJECT_DIR)"
   ]
  },
  {
   "cell_type": "code",
   "execution_count": 5,
   "metadata": {},
   "outputs": [],
   "source": [
    "from src import getDataMET, getInfoMET"
   ]
  },
  {
   "cell_type": "code",
   "execution_count": 6,
   "metadata": {},
   "outputs": [],
   "source": [
    "TOKEN = getDataMET.read_text_file(TOKEN_MET)"
   ]
  },
  {
   "cell_type": "code",
   "execution_count": 7,
   "metadata": {},
   "outputs": [
    {
     "name": "stdout",
     "output_type": "stream",
     "text": [
      "Error: 400 - {\"details\":\"missing or invalid arguments\"}\n"
     ]
    }
   ],
   "source": [
    "from src import getDataMET, getInfoMET\n",
    "df_test = getInfoMET.getDisCSV(TOKEN, DATA_MET)"
   ]
  },
  {
   "cell_type": "code",
   "execution_count": null,
   "metadata": {},
   "outputs": [],
   "source": [
    "getJSON = getDataMET.get_met_api_data(\n",
    "    \"FORECAST\", \"LOCATION:13\", \"2023-10-01\", \"2023-12-01\", MET_URL2, TOKEN\n",
    ")"
   ]
  },
  {
   "cell_type": "code",
   "execution_count": null,
   "metadata": {},
   "outputs": [],
   "source": [
    "getDataMET.extract_weather_info(getJSON)"
   ]
  },
  {
   "cell_type": "code",
   "execution_count": null,
   "metadata": {},
   "outputs": [],
   "source": [
    "LOCATIONS = ['STATE', 'DISTRICT', 'TOWN', 'TOURISTDEST', 'WATERS']\n",
    "getInfoMET.getCSV(DATA_TYPE_URL, LOCATION_BASE_URL, LOCATIONS, DATA_MET, TOKEN)"
   ]
  },
  {
   "cell_type": "code",
   "execution_count": null,
   "metadata": {},
   "outputs": [],
   "source": [
    "getInfoMET.InfoAPI(LOCATION_BASE_URL+LOCATIONS[1]+\"&offset=50\", TOKEN).extract_location()"
   ]
  },
  {
   "cell_type": "code",
   "execution_count": null,
   "metadata": {},
   "outputs": [],
   "source": [
    "getInfoMET.InfoAPI(LOCATION_BASE_URL+LOCATIONS[2]+\"&offset=200\", TOKEN).extract_location()"
   ]
  }
 ],
 "metadata": {
  "kernelspec": {
   "display_name": "Python 3",
   "language": "python",
   "name": "python3"
  },
  "language_info": {
   "codemirror_mode": {
    "name": "ipython",
    "version": 3
   },
   "file_extension": ".py",
   "mimetype": "text/x-python",
   "name": "python",
   "nbconvert_exporter": "python",
   "pygments_lexer": "ipython3",
   "version": "3.11.5"
  }
 },
 "nbformat": 4,
 "nbformat_minor": 2
}
